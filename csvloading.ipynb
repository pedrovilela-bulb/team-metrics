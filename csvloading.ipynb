{
 "cells": [
  {
   "cell_type": "code",
   "execution_count": 3,
   "id": "88ee0afe-9623-41d6-a1b1-a76788545543",
   "metadata": {},
   "outputs": [],
   "source": [
    "import os\n",
    "import csv\n",
    "import matplotlib.pyplot as plt\n",
    "import numpy as np\n",
    "import dateutil.parser as parser"
   ]
  },
  {
   "cell_type": "code",
   "execution_count": 4,
   "id": "77f8942f-c920-4f20-bfcb-9a7efe37c61d",
   "metadata": {},
   "outputs": [],
   "source": [
    "csv_filename = os.path.expanduser(\"~\") + '/' + \"file_SMM__test.csv\"\n",
    "\n",
    "tickets = []\n",
    "with open(csv_filename, \"r\", newline='') as fd:\n",
    "    reader = csv.DictReader(fd)\n",
    "    tickets = [row for row in reader]"
   ]
  },
  {
   "cell_type": "code",
   "execution_count": 5,
   "id": "f95be377-3c99-429c-a5db-0c1cb15ed024",
   "metadata": {},
   "outputs": [],
   "source": [
    "def clean_or_none(t):\n",
    "    if t.get('Estimation', '') != '' and t.get('Done', '') != '' and t.get('In Progress', '') != '':\n",
    "        estimation = int(t['Estimation'])\n",
    "        days = (parser.isoparse(t['Done']) - parser.isoparse(t['In Progress'])).days\n",
    "\n",
    "        if days < 45 and estimation < 13:\n",
    "            return (estimation, days)"
   ]
  },
  {
   "cell_type": "code",
   "execution_count": 6,
   "id": "a2fa6c87-564f-4f81-969a-5b83329ff7a1",
   "metadata": {},
   "outputs": [
    {
     "data": {
      "text/plain": [
       "5"
      ]
     },
     "execution_count": 6,
     "metadata": {},
     "output_type": "execute_result"
    }
   ],
   "source": [
    "clean_tickets = []\n",
    "for t in tickets:\n",
    "    v = clean_or_none(t)\n",
    "    if v is not None:    \n",
    "        clean_tickets.append(v)\n",
    "\n",
    "\n",
    "len(clean_tickets)"
   ]
  },
  {
   "cell_type": "code",
   "execution_count": 7,
   "id": "0de02a22-d63c-4b1c-be1b-38b2ff972e42",
   "metadata": {},
   "outputs": [
    {
     "data": {
      "image/png": "[encoded data removed]",
      "text/plain": [
       "<Figure size 432x288 with 1 Axes>"
      ]
     },
     "metadata": {
      "needs_background": "light"
     },
     "output_type": "display_data"
    }
   ],
   "source": [
    "plt.scatter(*zip(*clean_tickets))\n",
    "plt.xlabel(\"Story Points\")\n",
    "plt.ylabel(\"Duration (days)\")\n",
    "plt.show()"
   ]
  },
  {
   "cell_type": "code",
   "execution_count": 8,
   "id": "977d3a79-786a-48bf-a77a-869999501b3b",
   "metadata": {},
   "outputs": [],
   "source": [
    "import pandas as pd\n",
    "import numpy as np"
   ]
  },
  {
   "cell_type": "code",
   "execution_count": 9,
   "id": "da2c9b94-cb27-4586-935a-8323efa94dff",
   "metadata": {},
   "outputs": [],
   "source": [
    "df = pd.DataFrame(clean_tickets, columns =['Estimation', 'Days'])"
   ]
  },
  {
   "cell_type": "code",
   "execution_count": 10,
   "id": "cab55a42-318a-4b2b-bce3-44215ccdab5f",
   "metadata": {},
   "outputs": [],
   "source": [
    "def percentile(n):\n",
    "    def percentile_(x):\n",
    "        return np.percentile(x, n)\n",
    "    percentile_.__name__ = 'percentile_%s' % n\n",
    "    return percentile_"
   ]
  },
  {
   "cell_type": "code",
   "execution_count": 11,
   "id": "e19fdc04-e57d-43b2-ac0e-ef42c74f9b0f",
   "metadata": {},
   "outputs": [
    {
     "data": {
      "text/html": [
       "<div>\n",
       "<style scoped>\n",
       "    .dataframe tbody tr th:only-of-type {\n",
       "        vertical-align: middle;\n",
       "    }\n",
       "\n",
       "    .dataframe tbody tr th {\n",
       "        vertical-align: top;\n",
       "    }\n",
       "\n",
       "    .dataframe thead tr th {\n",
       "        text-align: left;\n",
       "    }\n",
       "\n",
       "    .dataframe thead tr:last-of-type th {\n",
       "        text-align: right;\n",
       "    }\n",
       "</style>\n",
       "<table border=\"1\" class=\"dataframe\">\n",
       "  <thead>\n",
       "    <tr>\n",
       "      <th></th>\n",
       "      <th colspan=\"8\" halign=\"left\">Days</th>\n",
       "    </tr>\n",
       "    <tr>\n",
       "      <th></th>\n",
       "      <th>count</th>\n",
       "      <th>mean</th>\n",
       "      <th>median</th>\n",
       "      <th>percentile_75</th>\n",
       "      <th>percentile_90</th>\n",
       "      <th>std</th>\n",
       "      <th>amin</th>\n",
       "      <th>amax</th>\n",
       "    </tr>\n",
       "    <tr>\n",
       "      <th>Estimation</th>\n",
       "      <th></th>\n",
       "      <th></th>\n",
       "      <th></th>\n",
       "      <th></th>\n",
       "      <th></th>\n",
       "      <th></th>\n",
       "      <th></th>\n",
       "      <th></th>\n",
       "    </tr>\n",
       "  </thead>\n",
       "  <tbody>\n",
       "    <tr>\n",
       "      <th>2</th>\n",
       "      <td>1</td>\n",
       "      <td>9.000000</td>\n",
       "      <td>9</td>\n",
       "      <td>9</td>\n",
       "      <td>9.0</td>\n",
       "      <td>NaN</td>\n",
       "      <td>9</td>\n",
       "      <td>9</td>\n",
       "    </tr>\n",
       "    <tr>\n",
       "      <th>3</th>\n",
       "      <td>3</td>\n",
       "      <td>6.666667</td>\n",
       "      <td>3</td>\n",
       "      <td>9</td>\n",
       "      <td>12.6</td>\n",
       "      <td>7.234178</td>\n",
       "      <td>2</td>\n",
       "      <td>15</td>\n",
       "    </tr>\n",
       "    <tr>\n",
       "      <th>5</th>\n",
       "      <td>1</td>\n",
       "      <td>4.000000</td>\n",
       "      <td>4</td>\n",
       "      <td>4</td>\n",
       "      <td>4.0</td>\n",
       "      <td>NaN</td>\n",
       "      <td>4</td>\n",
       "      <td>4</td>\n",
       "    </tr>\n",
       "  </tbody>\n",
       "</table>\n",
       "</div>"
      ],
      "text/plain": [
       "            Days                                                              \\\n",
       "           count      mean median percentile_75 percentile_90       std amin   \n",
       "Estimation                                                                     \n",
       "2              1  9.000000      9             9           9.0       NaN    9   \n",
       "3              3  6.666667      3             9          12.6  7.234178    2   \n",
       "5              1  4.000000      4             4           4.0       NaN    4   \n",
       "\n",
       "                 \n",
       "           amax  \n",
       "Estimation       \n",
       "2             9  \n",
       "3            15  \n",
       "5             4  "
      ]
     },
     "execution_count": 11,
     "metadata": {},
     "output_type": "execute_result"
    }
   ],
   "source": [
    "df.groupby('Estimation').agg(['count', np.mean, np.median, percentile(75), percentile(90), np.std, np.min, np.max])"
   ]
  }
 ],
 "metadata": {
  "kernelspec": {
   "display_name": "Python 3",
   "language": "python",
   "name": "python3"
  },
  "language_info": {
   "codemirror_mode": {
    "name": "ipython",
    "version": 3
   },
   "file_extension": ".py",
   "mimetype": "text/x-python",
   "name": "python",
   "nbconvert_exporter": "python",
   "pygments_lexer": "ipython3",
   "version": "3.9.5"
  }
 },
 "nbformat": 4,
 "nbformat_minor": 5
}
