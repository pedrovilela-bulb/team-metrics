{
 "cells": [
  {
   "cell_type": "code",
   "execution_count": 11,
   "id": "e1397874-6fb5-4d81-b959-7e20c3c16a40",
   "metadata": {},
   "outputs": [],
   "source": [
    "import requests\n",
    "from requests.auth import HTTPBasicAuth\n",
    "import json\n",
    "import urllib\n",
    "import os\n",
    "import time\n",
    "import csv"
   ]
  },
  {
   "cell_type": "code",
   "execution_count": 12,
   "id": "78a03de5-c57a-4dad-a2b1-a41dd043d978",
   "metadata": {},
   "outputs": [],
   "source": [
    "#Make sure the env vars are set\n",
    "api_token = os.environ['JIRA_API_TOKEN']\n",
    "email_address = os.environ['JIRA_EMAIL_ADDRESS']\n",
    "\n",
    "auth = HTTPBasicAuth(email_address, api_token)\n",
    "\n",
    "headers = {\n",
    "   \"Accept\": \"application/json\"\n",
    "}"
   ]
  },
  {
   "cell_type": "code",
   "execution_count": 13,
   "id": "a3283956-82b4-484c-bc93-9cf75e327061",
   "metadata": {},
   "outputs": [],
   "source": [
    "#URL encoded JQL\n",
    "jql = urllib.parse.quote(\"project = SMM AND issuetype = Story AND status = Done order by created DESC\")"
   ]
  },
  {
   "cell_type": "code",
   "execution_count": 14,
   "id": "53301aac-d861-456f-bccc-badebce1e0e8",
   "metadata": {},
   "outputs": [],
   "source": [
    "max_results = 1000"
   ]
  },
  {
   "cell_type": "code",
   "execution_count": 15,
   "id": "3ab2e0d4-6234-4156-8d0e-f09f7856be4c",
   "metadata": {
    "tags": []
   },
   "outputs": [],
   "source": [
    "#Retrieve all JIRA keys (e.g. SMM-1423) given a JQL\n",
    "url_search = 'https://bulbenergy.atlassian.net/rest/api/3/search?maxResults={max_results}&fields=key&jql={jql}'.format(max_results = max_results, jql = jql)"
   ]
  },
  {
   "cell_type": "code",
   "execution_count": 16,
   "id": "4588a46d-7cea-46e6-834f-c8641dd1331a",
   "metadata": {},
   "outputs": [],
   "source": [
    "search_response = requests.request(\n",
    "   \"GET\",\n",
    "   url_search,\n",
    "   headers=headers,\n",
    "   auth=auth\n",
    ")\n",
    "\n",
    "search_response = json.loads(search_response.text)"
   ]
  },
  {
   "cell_type": "code",
   "execution_count": 17,
   "id": "3294db10-a8f5-4897-8257-5e5b170ee372",
   "metadata": {},
   "outputs": [],
   "source": [
    "keys = [sr['key'] for sr in search_response['issues']]\n",
    "\n",
    "#Line bellow is for test only\n",
    "#keys = keys[:10]"
   ]
  },
  {
   "cell_type": "code",
   "execution_count": 20,
   "id": "fc331b70-059c-4124-bec2-06da7ecc1e7a",
   "metadata": {},
   "outputs": [],
   "source": [
    "#Changelog API endpoint - it needs to be issue by issue, I couldn't find a changelog API for bulk request\n",
    "url = \"https://bulbenergy.atlassian.net/rest/api/2/issue/{issue_key}/changelog\""
   ]
  },
  {
   "cell_type": "code",
   "execution_count": 21,
   "id": "d6799a62-59dc-4db0-a1d2-166ad0620e0d",
   "metadata": {},
   "outputs": [],
   "source": [
    "def fetch_changelog(url, headers, auth, key):\n",
    "    response = requests.request(\n",
    "       \"GET\",\n",
    "       url.format(issue_key = key),\n",
    "       headers=headers,\n",
    "       auth=auth\n",
    "    )\n",
    "\n",
    "    return json.loads(response.text).get('values')\n",
    "\n",
    "\n",
    "#Extract the info required from the changelog of an issue\n",
    "def extract_issue_stats(issue_key, issue_changes):\n",
    "    ticket_stats = {'key': issue_key}\n",
    "    \n",
    "    for c in issue_changes:\n",
    "        items = c.get('items', [])\n",
    "        for i in items:\n",
    "            if i.get('field', '') == 'status':\n",
    "                ticket_stats[i.get('toString')] = c.get('created')\n",
    "            elif i.get('field', '') == 'Story point estimate':\n",
    "                ticket_stats['Estimation'] = i.get('toString')\n",
    "    \n",
    "    return ticket_stats"
   ]
  },
  {
   "cell_type": "code",
   "execution_count": 22,
   "id": "39bf597a-ff37-492d-934b-0a95a9c2b8c5",
   "metadata": {},
   "outputs": [],
   "source": [
    "# Sleep between calls - not sure if this is necessary as we use JIRA Cloud but adding it as a precaution\n",
    "sleep_secs = 0.3\n",
    "\n",
    "tickets = []\n",
    "for key in keys:\n",
    "    changes = fetch_changelog(url, headers, auth, key)\n",
    "\n",
    "    ticket_stats = extract_issue_stats(key, changes)\n",
    "    \n",
    "    tickets.append(ticket_stats)\n",
    "    time.sleep(sleep_secs)\n"
   ]
  },
  {
   "cell_type": "code",
   "execution_count": 23,
   "id": "ab07369c-0175-4afd-bbbb-95760c17fa5a",
   "metadata": {},
   "outputs": [],
   "source": [
    "fieldnames = set()\n",
    "for t in tickets:\n",
    "    fieldnames.update(t.keys())\n",
    "fieldnames = sorted(fieldnames)\n",
    "\n",
    "csv_filename = os.path.expanduser(\"~\") + '/' + \"file_SMM__test.csv\"\n",
    "with open(csv_filename, \"w\", newline='') as fd:\n",
    "    wr = csv.DictWriter(fd, fieldnames)\n",
    "    wr.writeheader()\n",
    "    wr.writerows(tickets)"
   ]
  },
  {
   "cell_type": "code",
   "execution_count": null,
   "id": "737ba2d5-da3f-4627-ad7d-e52bb679237e",
   "metadata": {},
   "outputs": [],
   "source": []
  }
 ],
 "metadata": {
  "kernelspec": {
   "display_name": "Python 3",
   "language": "python",
   "name": "python3"
  },
  "language_info": {
   "codemirror_mode": {
    "name": "ipython",
    "version": 3
   },
   "file_extension": ".py",
   "mimetype": "text/x-python",
   "name": "python",
   "nbconvert_exporter": "python",
   "pygments_lexer": "ipython3",
   "version": "3.9.5"
  }
 },
 "nbformat": 4,
 "nbformat_minor": 5
}
